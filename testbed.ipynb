{
 "cells": [
  {
   "cell_type": "code",
   "execution_count": 7,
   "metadata": {},
   "outputs": [
    {
     "name": "stdout",
     "output_type": "stream",
     "text": [
      "('a b c [e f g]', '2160p_24fps_VP9 LQ-128kbit_AAC', 'Kineko Video')\n",
      "a b c (e f g) [2160p][24fps][VP9 LQ-128kbit][AAC]-KinekoVideo\n",
      "('It’s ok I’m ok (Live from Madison Square Garden)', '1080p_24fps_H264-128kbit_AAC', 'Tate McRae')\n",
      "It’s ok I’m ok (Live from Madison Square Garden) [1080p][24fps][H264-128kbit][AAC]-TateMcRae\n"
     ]
    }
   ],
   "source": [
    "from re import match as re_match\n",
    "from re import sub as re_sub\n",
    "\n",
    "def new_stem(old_name):\n",
    "    m = re_match(r\"^(.*)\\s+\\((.*?)\\)\\s+\\((.*?)\\)$\", old_name)\n",
    "    if m is None:\n",
    "        print(\"❌ No match found\")\n",
    "        return old_name\n",
    "\n",
    "    print(m.groups())\n",
    "    (base_name, av_info, channel_name) = m.groups()\n",
    "\n",
    "    base_name = base_name.replace(\"[\", \"(\")\n",
    "    base_name = base_name.replace(\"]\", \")\")\n",
    "    av_info = av_info.replace(\"_\", '][')\n",
    "    av_info = f\"[{av_info}]\"\n",
    "    channel_name = re_sub(r\"\\s\", \"\", channel_name)\n",
    "\n",
    "    return f\"{base_name} {av_info}-{channel_name}\"\n",
    "\n",
    "cases = [\n",
    "    \"a b c [e f g] (2160p_24fps_VP9 LQ-128kbit_AAC) (Kineko Video)\",\n",
    "    \"It’s ok I’m ok (Live from Madison Square Garden) (1080p_24fps_H264-128kbit_AAC) (Tate McRae)\"\n",
    "]\n",
    "\n",
    "for c in cases:\n",
    "    print(new_stem(c))"
   ]
  }
 ],
 "metadata": {
  "kernelspec": {
   "display_name": "Python 3",
   "language": "python",
   "name": "python3"
  },
  "language_info": {
   "codemirror_mode": {
    "name": "ipython",
    "version": 3
   },
   "file_extension": ".py",
   "mimetype": "text/x-python",
   "name": "python",
   "nbconvert_exporter": "python",
   "pygments_lexer": "ipython3",
   "version": "3.9.6"
  }
 },
 "nbformat": 4,
 "nbformat_minor": 2
}
